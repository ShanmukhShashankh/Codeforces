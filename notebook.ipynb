{
 "cells": [
  {
   "cell_type": "code",
   "execution_count": null,
   "metadata": {},
   "outputs": [],
   "source": [
    "testcases = int(input())\n",
    "while testcases!=0:\n",
    "    Ax, Ay = 0, 0\n",
    "    Bx, By = input().split()\n",
    "    Bx, By = int(Bx), int(By)\n",
    "    Cx, Cy = 0, 0\n",
    "\n",
    "    if (Bx+By)%2==0:\n",
    "        if Bx%2!=0 and By%2!=0:\n",
    "            if Bx>By:\n",
    "                Cx = (Bx+By)//2\n",
    "                Cy = 0\n",
    "            else:\n",
    "                Cx = 0\n",
    "                Cy = (By+Bx)//2\n",
    "        else:\n",
    "            Cx = Bx//2\n",
    "            Cy = By//2\n",
    "    else:\n",
    "        Cx, Cy = -1, -1\n",
    "\n",
    "    print(Cx,Cy)\n",
    "    testcases -= 1"
   ]
  },
  {
   "cell_type": "code",
   "execution_count": 1,
   "metadata": {},
   "outputs": [
    {
     "name": "stdout",
     "output_type": "stream",
     "text": [
      "Hello World\n"
     ]
    }
   ],
   "source": [
    "print(\"Hello World\")"
   ]
  },
  {
   "cell_type": "code",
   "execution_count": null,
   "metadata": {},
   "outputs": [],
   "source": []
  }
 ],
 "metadata": {
  "interpreter": {
   "hash": "9b9d3f503b266234e2a32feb2a9084ebfc4d9abddba8b9d1dbf0d170b627ca8e"
  },
  "kernelspec": {
   "display_name": "Python 3",
   "language": "python",
   "name": "python3"
  },
  "language_info": {
   "codemirror_mode": {
    "name": "ipython",
    "version": 3
   },
   "file_extension": ".py",
   "mimetype": "text/x-python",
   "name": "python",
   "nbconvert_exporter": "python",
   "pygments_lexer": "ipython3",
   "version": "3.8.8"
  }
 },
 "nbformat": 4,
 "nbformat_minor": 2
}
